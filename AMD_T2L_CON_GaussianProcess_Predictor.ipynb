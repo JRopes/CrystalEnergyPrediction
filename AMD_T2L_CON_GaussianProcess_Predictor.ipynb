{
  "nbformat": 4,
  "nbformat_minor": 0,
  "metadata": {
    "colab": {
      "name": "AMD_T2L_CON_GaussianProcess_Predictor.ipynb",
      "provenance": [],
      "collapsed_sections": [],
      "authorship_tag": "ABX9TyNvl2FfluN4CWVU9AkT0+Fb",
      "include_colab_link": true
    },
    "kernelspec": {
      "name": "python3",
      "display_name": "Python 3"
    },
    "language_info": {
      "name": "python"
    }
  },
  "cells": [
    {
      "cell_type": "markdown",
      "metadata": {
        "id": "view-in-github",
        "colab_type": "text"
      },
      "source": [
        "<a href=\"https://colab.research.google.com/github/JRopes/CrystalEnergyPredictionWithInvariants/blob/main/AMD_T2L_CON_GaussianProcess_Predictor.ipynb\" target=\"_parent\"><img src=\"https://colab.research.google.com/assets/colab-badge.svg\" alt=\"Open In Colab\"/></a>"
      ]
    },
    {
      "cell_type": "markdown",
      "metadata": {
        "id": "yYazXU3nZxRB"
      },
      "source": [
        "**SETUP**"
      ]
    },
    {
      "cell_type": "code",
      "metadata": {
        "colab": {
          "base_uri": "https://localhost:8080/"
        },
        "id": "94kRXaBiZrxr",
        "outputId": "24de40b5-1598-41ba-f7e9-b8d73458f000"
      },
      "source": [
        "from google.colab import drive\n",
        "drive.mount('/content/drive')"
      ],
      "execution_count": null,
      "outputs": [
        {
          "output_type": "stream",
          "text": [
            "Drive already mounted at /content/drive; to attempt to forcibly remount, call drive.mount(\"/content/drive\", force_remount=True).\n"
          ],
          "name": "stdout"
        }
      ]
    },
    {
      "cell_type": "code",
      "metadata": {
        "id": "nKHxZYVLZ3g_"
      },
      "source": [
        "import sys\n",
        "sys.path.insert(0,'/content/drive/MyDrive/Colab_Notebooks/Dissertation/Prediction_Prototyping') "
      ],
      "execution_count": null,
      "outputs": []
    },
    {
      "cell_type": "code",
      "metadata": {
        "colab": {
          "base_uri": "https://localhost:8080/"
        },
        "id": "nwYUEZHZOXCR",
        "outputId": "f8dbc691-2b20-42ed-fae9-8fe8566e07fe"
      },
      "source": [
        "!pip install ipython-autotime"
      ],
      "execution_count": null,
      "outputs": [
        {
          "output_type": "stream",
          "text": [
            "Requirement already satisfied: ipython-autotime in /usr/local/lib/python3.7/dist-packages (0.3.1)\n",
            "Requirement already satisfied: ipython in /usr/local/lib/python3.7/dist-packages (from ipython-autotime) (5.5.0)\n",
            "Requirement already satisfied: pickleshare in /usr/local/lib/python3.7/dist-packages (from ipython->ipython-autotime) (0.7.5)\n",
            "Requirement already satisfied: simplegeneric>0.8 in /usr/local/lib/python3.7/dist-packages (from ipython->ipython-autotime) (0.8.1)\n",
            "Requirement already satisfied: prompt-toolkit<2.0.0,>=1.0.4 in /usr/local/lib/python3.7/dist-packages (from ipython->ipython-autotime) (1.0.18)\n",
            "Requirement already satisfied: pygments in /usr/local/lib/python3.7/dist-packages (from ipython->ipython-autotime) (2.6.1)\n",
            "Requirement already satisfied: traitlets>=4.2 in /usr/local/lib/python3.7/dist-packages (from ipython->ipython-autotime) (5.0.5)\n",
            "Requirement already satisfied: decorator in /usr/local/lib/python3.7/dist-packages (from ipython->ipython-autotime) (4.4.2)\n",
            "Requirement already satisfied: pexpect; sys_platform != \"win32\" in /usr/local/lib/python3.7/dist-packages (from ipython->ipython-autotime) (4.8.0)\n",
            "Requirement already satisfied: setuptools>=18.5 in /usr/local/lib/python3.7/dist-packages (from ipython->ipython-autotime) (56.1.0)\n",
            "Requirement already satisfied: wcwidth in /usr/local/lib/python3.7/dist-packages (from prompt-toolkit<2.0.0,>=1.0.4->ipython->ipython-autotime) (0.2.5)\n",
            "Requirement already satisfied: six>=1.9.0 in /usr/local/lib/python3.7/dist-packages (from prompt-toolkit<2.0.0,>=1.0.4->ipython->ipython-autotime) (1.15.0)\n",
            "Requirement already satisfied: ipython-genutils in /usr/local/lib/python3.7/dist-packages (from traitlets>=4.2->ipython->ipython-autotime) (0.2.0)\n",
            "Requirement already satisfied: ptyprocess>=0.5 in /usr/local/lib/python3.7/dist-packages (from pexpect; sys_platform != \"win32\"->ipython->ipython-autotime) (0.7.0)\n"
          ],
          "name": "stdout"
        }
      ]
    },
    {
      "cell_type": "markdown",
      "metadata": {
        "id": "NFAyTfLfZ6QF"
      },
      "source": [
        "**IMPORTING LIBRARY DEPENDENCIES**"
      ]
    },
    {
      "cell_type": "code",
      "metadata": {
        "id": "qOQTM4jsZ-dV"
      },
      "source": [
        "import numpy as np\n",
        "import pickle\n",
        "import math\n",
        "import pandas as pd"
      ],
      "execution_count": null,
      "outputs": []
    },
    {
      "cell_type": "code",
      "metadata": {
        "id": "kIdm440CaB_L"
      },
      "source": [
        "from sklearn import preprocessing\n",
        "from sklearn.model_selection import train_test_split\n",
        "from sklearn.gaussian_process import GaussianProcessRegressor\n",
        "from sklearn.gaussian_process.kernels import DotProduct, WhiteKernel, RationalQuadratic, RBF, ConstantKernel, Matern, ExpSineSquared"
      ],
      "execution_count": null,
      "outputs": []
    },
    {
      "cell_type": "code",
      "metadata": {
        "colab": {
          "base_uri": "https://localhost:8080/"
        },
        "id": "aUV0xUk4Oc5f",
        "outputId": "7bb71435-8ee8-4133-dd5c-ca69456740f0"
      },
      "source": [
        "%load_ext autotime"
      ],
      "execution_count": null,
      "outputs": [
        {
          "output_type": "stream",
          "text": [
            "time: 156 µs (started: 2021-05-08 14:55:56 +00:00)\n"
          ],
          "name": "stdout"
        }
      ]
    },
    {
      "cell_type": "markdown",
      "metadata": {
        "id": "kRqn60z8aPvY"
      },
      "source": [
        "**IMPORTING DATA**"
      ]
    },
    {
      "cell_type": "code",
      "metadata": {
        "id": "HEUkja7zaStV",
        "colab": {
          "base_uri": "https://localhost:8080/"
        },
        "outputId": "0b9a8219-29b2-4f06-aa28-4e8a36e5b721"
      },
      "source": [
        "feature_dir_path = '/content/drive/MyDrive/Colab_Notebooks/Dissertation/Data/PublishedData/AMDs_T2_1000_CON.csv'"
      ],
      "execution_count": null,
      "outputs": [
        {
          "output_type": "stream",
          "text": [
            "time: 2.22 ms (started: 2021-05-08 14:55:56 +00:00)\n"
          ],
          "name": "stdout"
        }
      ]
    },
    {
      "cell_type": "code",
      "metadata": {
        "id": "Va4IFR6TaW_d",
        "colab": {
          "base_uri": "https://localhost:8080/"
        },
        "outputId": "2778a127-46cc-4e36-b52e-57a8f20df6bc"
      },
      "source": [
        "RAW_DATA = pd.read_csv(feature_dir_path)\n",
        "data = RAW_DATA.to_numpy()"
      ],
      "execution_count": null,
      "outputs": [
        {
          "output_type": "stream",
          "text": [
            "time: 2.18 s (started: 2021-05-08 14:55:56 +00:00)\n"
          ],
          "name": "stdout"
        }
      ]
    },
    {
      "cell_type": "code",
      "metadata": {
        "id": "Dk7bSMzO-ng0",
        "colab": {
          "base_uri": "https://localhost:8080/"
        },
        "outputId": "c35253a1-1fe3-47b2-fab7-b0649d6066a6"
      },
      "source": [
        "label_dir_path = '/content/drive/MyDrive/Colab_Notebooks/Dissertation/Data/AMDs_T2_1000.csv'"
      ],
      "execution_count": null,
      "outputs": [
        {
          "output_type": "stream",
          "text": [
            "time: 875 µs (started: 2021-05-08 14:55:58 +00:00)\n"
          ],
          "name": "stdout"
        }
      ]
    },
    {
      "cell_type": "code",
      "metadata": {
        "id": "KXoJgjkQ-njr",
        "colab": {
          "base_uri": "https://localhost:8080/"
        },
        "outputId": "02ed30ee-213b-4ce9-9f7f-cd1d459b8683"
      },
      "source": [
        "RAW_LABEL_DATA = pd.read_csv(label_dir_path)\n",
        "label_data = RAW_LABEL_DATA.to_numpy()"
      ],
      "execution_count": null,
      "outputs": [
        {
          "output_type": "stream",
          "text": [
            "time: 2.06 s (started: 2021-05-08 14:55:58 +00:00)\n"
          ],
          "name": "stdout"
        }
      ]
    },
    {
      "cell_type": "code",
      "metadata": {
        "id": "KHZCXYaEaY_j",
        "colab": {
          "base_uri": "https://localhost:8080/"
        },
        "outputId": "09f8ba5c-863a-447e-a2ac-2e79bbd9279b"
      },
      "source": [
        "features = data[:,1:]\n",
        "labels = label_data[:,1]"
      ],
      "execution_count": null,
      "outputs": [
        {
          "output_type": "stream",
          "text": [
            "time: 1.84 ms (started: 2021-05-08 14:56:00 +00:00)\n"
          ],
          "name": "stdout"
        }
      ]
    },
    {
      "cell_type": "code",
      "metadata": {
        "id": "RFQPvWBPafu5",
        "colab": {
          "base_uri": "https://localhost:8080/"
        },
        "outputId": "88269142-df14-49c5-a455-c09b3decb3a3"
      },
      "source": [
        "pickle.dump(features, open(\"amd_feature_data_forest.p\", \"wb\"))\n",
        "\n",
        "pickle.dump(labels, open(\"amd_label_data_forest.p\",\"wb\"))"
      ],
      "execution_count": null,
      "outputs": [
        {
          "output_type": "stream",
          "text": [
            "time: 1.54 s (started: 2021-05-08 14:56:00 +00:00)\n"
          ],
          "name": "stdout"
        }
      ]
    },
    {
      "cell_type": "code",
      "metadata": {
        "id": "oc7T8Vo4agid",
        "colab": {
          "base_uri": "https://localhost:8080/"
        },
        "outputId": "090ac258-5907-43a1-8afb-69ffa28a1daf"
      },
      "source": [
        "def data():\n",
        "  feature_data = pickle.load(open(\"amd_feature_data_forest.p\",\"rb\"))\n",
        "  label_data = pickle.load(open(\"amd_label_data_forest.p\",\"rb\"))\n",
        "\n",
        "  feature_data = np.nan_to_num(feature_data)\n",
        "\n",
        "  feature_data = feature_data[:,:100]\n",
        "\n",
        "  ## MinMax Scaler\n",
        "  feature_scaler = preprocessing.MinMaxScaler(feature_range=(0,1))\n",
        "  X_scaled = feature_scaler.fit_transform(feature_data)\n",
        "  \n",
        "  label_scaler = preprocessing.MinMaxScaler(feature_range=(0,1))\n",
        "  y_scaled = label_scaler.fit_transform(label_data.reshape(-1,1))\n",
        "\n",
        "  X_train, X_test, y_train, y_test = train_test_split(X_scaled, y_scaled, test_size=0.1, shuffle=True)\n",
        "\n",
        "  return X_train, y_train, X_test, y_test, label_scaler"
      ],
      "execution_count": null,
      "outputs": [
        {
          "output_type": "stream",
          "text": [
            "time: 12.3 ms (started: 2021-05-08 14:56:02 +00:00)\n"
          ],
          "name": "stdout"
        }
      ]
    },
    {
      "cell_type": "markdown",
      "metadata": {
        "id": "lujM-nE0bQJs"
      },
      "source": [
        "**ARCHITECTURE**"
      ]
    },
    {
      "cell_type": "code",
      "metadata": {
        "id": "fa3PUXyhbW_g",
        "colab": {
          "base_uri": "https://localhost:8080/"
        },
        "outputId": "e0f4a6de-72e4-4662-be7b-4b05a2e7fb59"
      },
      "source": [
        "X_train, y_train, X_test, y_test, label_scaler = data()"
      ],
      "execution_count": null,
      "outputs": [
        {
          "output_type": "stream",
          "text": [
            "time: 1.3 s (started: 2021-05-08 14:56:02 +00:00)\n"
          ],
          "name": "stdout"
        }
      ]
    },
    {
      "cell_type": "code",
      "metadata": {
        "id": "U_lxN4SZbpOb",
        "colab": {
          "base_uri": "https://localhost:8080/"
        },
        "outputId": "482d2f7f-61d4-4ee8-9477-a443cb139d37"
      },
      "source": [
        "kernel = RationalQuadratic()"
      ],
      "execution_count": null,
      "outputs": [
        {
          "output_type": "stream",
          "text": [
            "time: 1.45 ms (started: 2021-05-08 14:56:03 +00:00)\n"
          ],
          "name": "stdout"
        }
      ]
    },
    {
      "cell_type": "code",
      "metadata": {
        "id": "Whv-BG1wbiWJ",
        "colab": {
          "base_uri": "https://localhost:8080/"
        },
        "outputId": "9370555e-811d-4e12-dbf0-c83f16a1191e"
      },
      "source": [
        "gpr = GaussianProcessRegressor(kernel=kernel)"
      ],
      "execution_count": null,
      "outputs": [
        {
          "output_type": "stream",
          "text": [
            "time: 1.46 ms (started: 2021-05-08 14:56:03 +00:00)\n"
          ],
          "name": "stdout"
        }
      ]
    },
    {
      "cell_type": "markdown",
      "metadata": {
        "id": "_4RYyRIfcC27"
      },
      "source": [
        "**TRAINING**"
      ]
    },
    {
      "cell_type": "code",
      "metadata": {
        "colab": {
          "base_uri": "https://localhost:8080/"
        },
        "id": "4agadkpDcFVT",
        "outputId": "4f907517-5b1e-4769-e909-f3ec8c5a8c91"
      },
      "source": [
        "gpr.fit(X_train, y_train)"
      ],
      "execution_count": null,
      "outputs": [
        {
          "output_type": "execute_result",
          "data": {
            "text/plain": [
              "GaussianProcessRegressor(alpha=1e-10, copy_X_train=True,\n",
              "                         kernel=RationalQuadratic(alpha=1, length_scale=1),\n",
              "                         n_restarts_optimizer=0, normalize_y=False,\n",
              "                         optimizer='fmin_l_bfgs_b', random_state=None)"
            ]
          },
          "metadata": {
            "tags": []
          },
          "execution_count": 17
        },
        {
          "output_type": "stream",
          "text": [
            "time: 9min 9s (started: 2021-05-08 14:56:03 +00:00)\n"
          ],
          "name": "stdout"
        }
      ]
    },
    {
      "cell_type": "markdown",
      "metadata": {
        "id": "l1SDmVSwclSf"
      },
      "source": [
        "**EVALUATING**"
      ]
    },
    {
      "cell_type": "code",
      "metadata": {
        "id": "g7Pq6bWfcpJz",
        "colab": {
          "base_uri": "https://localhost:8080/"
        },
        "outputId": "3631d9c6-adf8-40bd-c317-7029b019f8c8"
      },
      "source": [
        "mean_predictions, std_predictions = gpr.predict(X_test, return_std=True)"
      ],
      "execution_count": null,
      "outputs": [
        {
          "output_type": "stream",
          "text": [
            "time: 10.1 s (started: 2021-05-08 15:05:12 +00:00)\n"
          ],
          "name": "stdout"
        }
      ]
    },
    {
      "cell_type": "code",
      "metadata": {
        "id": "-VFuDikYmwhs",
        "colab": {
          "base_uri": "https://localhost:8080/"
        },
        "outputId": "c786daf8-faa1-467f-a261-a94785c87c0e"
      },
      "source": [
        "std_predictions = std_predictions.reshape(-1,1)"
      ],
      "execution_count": null,
      "outputs": [
        {
          "output_type": "stream",
          "text": [
            "time: 1.48 ms (started: 2021-05-08 15:05:22 +00:00)\n"
          ],
          "name": "stdout"
        }
      ]
    },
    {
      "cell_type": "code",
      "metadata": {
        "id": "TO7zHCYnl3h0",
        "colab": {
          "base_uri": "https://localhost:8080/"
        },
        "outputId": "393530d2-e1a5-4734-a6fc-e1f9790f28b6"
      },
      "source": [
        "scaler = np.divide(std_predictions, mean_predictions)"
      ],
      "execution_count": null,
      "outputs": [
        {
          "output_type": "stream",
          "text": [
            "time: 1.46 ms (started: 2021-05-08 15:05:22 +00:00)\n"
          ],
          "name": "stdout"
        }
      ]
    },
    {
      "cell_type": "code",
      "metadata": {
        "id": "dtCe5QIbeIuq",
        "colab": {
          "base_uri": "https://localhost:8080/"
        },
        "outputId": "10d04547-6282-4786-da95-160011dcfb62"
      },
      "source": [
        "mean_predictions = label_scaler.inverse_transform(mean_predictions)\n",
        "std_predictions = np.multiply(scaler,mean_predictions)\n",
        "y_test = label_scaler.inverse_transform(y_test)"
      ],
      "execution_count": null,
      "outputs": [
        {
          "output_type": "stream",
          "text": [
            "time: 5.72 ms (started: 2021-05-08 15:05:22 +00:00)\n"
          ],
          "name": "stdout"
        }
      ]
    },
    {
      "cell_type": "code",
      "metadata": {
        "colab": {
          "base_uri": "https://localhost:8080/"
        },
        "id": "0s7t8LaX5XsM",
        "outputId": "0883fc49-1c28-42f2-c5ca-c747e8a62af1"
      },
      "source": [
        "average_loss = 0\n",
        "average_loss_percentage = 0\n",
        "average_loss_percentage_rel_range = 0\n",
        "counter = 0\n",
        "rms = 0\n",
        "\n",
        "error_ranges = np.array((0,0,0,0,0,0))\n",
        "\n",
        "max_value = -999999.99\n",
        "min_value = 999999.99\n",
        "\n",
        "for label in y_test:\n",
        "    if(label > max_value):\n",
        "        max_value = label\n",
        "        \n",
        "    if(label < min_value):\n",
        "        min_value = label\n",
        "        \n",
        "label_range = abs(max_value - min_value)\n",
        "\n",
        "\n",
        "for i,prediction in enumerate(mean_predictions):\n",
        "    percentage_difference = abs((abs(prediction - y_test[i]) / y_test[i]) * 100)\n",
        "    percentage_difference2 = abs((abs(prediction - y_test[i]) / label_range) * 100)\n",
        "    loss = abs(prediction - y_test[i])\n",
        "    average_loss += loss\n",
        "\n",
        "    rms += loss**2\n",
        "\n",
        "    if(loss <= 1.0):\n",
        "      error_ranges[0] += 1\n",
        "    elif(loss <= 2.0):\n",
        "      error_ranges[1] += 1\n",
        "    elif(loss <= 4.0):\n",
        "      error_ranges[2] += 1\n",
        "    elif(loss <= 8.0):\n",
        "      error_ranges[3] += 1\n",
        "    elif(loss <= 10.0):\n",
        "      error_ranges[4] += 1\n",
        "    else:\n",
        "      error_ranges[5] += 1\n",
        "\n",
        "    average_loss_percentage += percentage_difference\n",
        "    average_loss_percentage_rel_range += percentage_difference2\n",
        "    counter += 1\n",
        "\n",
        "rms = math.sqrt(rms / counter)\n",
        "\n",
        "print()\n",
        "print(\"SUMMARY:\")\n",
        "print()\n",
        "print(\"Root Mean Squared Error: \" + str(rms))\n",
        "print(\"Mean Absolute Error: \" + str(average_loss / counter))\n",
        "print(\"Mean Absolute Percentage Error: \" + str(average_loss_percentage / counter) + \"%\")\n",
        "print(\"Mean Absolute Percentage Error relative to Label Range: \" + str(average_loss_percentage_rel_range / counter) + \"%\")\n",
        "print(\"Accuracy: \" + str(100 - (average_loss_percentage / counter)) + \"%\")\n",
        "print()\n",
        "print(\"BREAKDOWN:\")\n",
        "print(\"   Error <= 1.0 kJ/mol: \" + str(error_ranges[0]) + \" or \" + str((error_ranges[0] / counter) * 100) + \"% of Test Set\")\n",
        "print(\"   Error <= 2.0 kJ/mol: \" + str(error_ranges[1]) + \" or \" + str((error_ranges[1] / counter) * 100) + \"% of Test Set\")\n",
        "print(\"   Error <= 4.0 kJ/mol: \" + str(error_ranges[2]) + \" or \" + str((error_ranges[2] / counter) * 100) + \"% of Test Set\")\n",
        "print(\"   Error <= 8.0 kJ/mol: \" + str(error_ranges[3]) + \" or \" + str((error_ranges[3] / counter) * 100) + \"% of Test Set\")\n",
        "print(\"   Error <= 10.0.0 kJ/mol: \" + str(error_ranges[4]) + \" or \" + str((error_ranges[4] / counter) * 100) + \"% of Test Set\")\n",
        "print(\"   Error > 10.0 kJ/mol: \" + str(error_ranges[5]) + \" or \" + str((error_ranges[5] / counter) * 100) + \"% of Test Set\")\n",
        "print(\"----------------------------------------------------------------------------------------------\")"
      ],
      "execution_count": null,
      "outputs": [
        {
          "output_type": "stream",
          "text": [
            "\n",
            "SUMMARY:\n",
            "\n",
            "Root Mean Squared Error: 6.966903909952713\n",
            "Mean Absolute Error: [5.30526982]\n",
            "Mean Absolute Percentage Error: [3.81922028]%\n",
            "Mean Absolute Percentage Error relative to Label Range: [5.87889735]%\n",
            "Accuracy: [96.18077972]%\n",
            "\n",
            "BREAKDOWN:\n",
            "   Error <= 1.0 kJ/mol: 84 or 14.788732394366196% of Test Set\n",
            "   Error <= 2.0 kJ/mol: 71 or 12.5% of Test Set\n",
            "   Error <= 4.0 kJ/mol: 113 or 19.8943661971831% of Test Set\n",
            "   Error <= 8.0 kJ/mol: 176 or 30.985915492957744% of Test Set\n",
            "   Error <= 10.0.0 kJ/mol: 47 or 8.274647887323944% of Test Set\n",
            "   Error > 10.0 kJ/mol: 77 or 13.556338028169016% of Test Set\n",
            "----------------------------------------------------------------------------------------------\n",
            "time: 89.4 ms (started: 2021-05-08 15:05:22 +00:00)\n"
          ],
          "name": "stdout"
        }
      ]
    },
    {
      "cell_type": "markdown",
      "metadata": {
        "id": "o-WOlymg5lTG"
      },
      "source": [
        "**Prediction with Uncertainty**"
      ]
    },
    {
      "cell_type": "code",
      "metadata": {
        "id": "dxlAgaqr5kJT",
        "colab": {
          "base_uri": "https://localhost:8080/"
        },
        "outputId": "d0c24079-18ec-4894-c653-c723242529ea"
      },
      "source": [
        "instance = 23"
      ],
      "execution_count": null,
      "outputs": [
        {
          "output_type": "stream",
          "text": [
            "time: 845 µs (started: 2021-05-08 15:05:23 +00:00)\n"
          ],
          "name": "stdout"
        }
      ]
    },
    {
      "cell_type": "code",
      "metadata": {
        "colab": {
          "base_uri": "https://localhost:8080/"
        },
        "id": "OA7TTUE1mGv1",
        "outputId": "a4e8cdd8-fdd8-4ffd-ef8a-c6289b469093"
      },
      "source": [
        "print(\"Prediction: \" + str(mean_predictions[instance,0]) + \" +- \" + str(-1.96 * std_predictions[instance,0]) + \" with 95% Confidence || True Label: \" + str(y_test[instance]))"
      ],
      "execution_count": null,
      "outputs": [
        {
          "output_type": "stream",
          "text": [
            "Prediction: -138.58976700140823 +- 25.419707622430987 with 95% Confidence || True Label: [-132.7562]\n",
            "time: 2.99 ms (started: 2021-05-08 15:05:23 +00:00)\n"
          ],
          "name": "stdout"
        }
      ]
    }
  ]
}