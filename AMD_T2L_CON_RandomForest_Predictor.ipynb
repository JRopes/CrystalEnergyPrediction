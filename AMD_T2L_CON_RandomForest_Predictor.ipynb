{
  "nbformat": 4,
  "nbformat_minor": 0,
  "metadata": {
    "colab": {
      "name": "AMD_T2L_CON_RandomForest_Predictor.ipynb",
      "provenance": [],
      "collapsed_sections": [],
      "authorship_tag": "ABX9TyMsUZ2I1RJi0m+DUQYev1g9",
      "include_colab_link": true
    },
    "kernelspec": {
      "name": "python3",
      "display_name": "Python 3"
    },
    "language_info": {
      "name": "python"
    }
  },
  "cells": [
    {
      "cell_type": "markdown",
      "metadata": {
        "id": "view-in-github",
        "colab_type": "text"
      },
      "source": [
        "<a href=\"https://colab.research.google.com/github/JRopes/CrystalEnergyPredictionWithInvariants/blob/main/AMD_T2L_CON_RandomForest_Predictor.ipynb\" target=\"_parent\"><img src=\"https://colab.research.google.com/assets/colab-badge.svg\" alt=\"Open In Colab\"/></a>"
      ]
    },
    {
      "cell_type": "markdown",
      "metadata": {
        "id": "1LystsBKP_6l"
      },
      "source": [
        "**SETUP**"
      ]
    },
    {
      "cell_type": "code",
      "metadata": {
        "colab": {
          "base_uri": "https://localhost:8080/"
        },
        "id": "sMJqEv-PP4gK",
        "outputId": "7a9e2e73-af0f-4324-c0eb-20e101acc519"
      },
      "source": [
        "from google.colab import drive\n",
        "drive.mount('/content/drive')"
      ],
      "execution_count": null,
      "outputs": [
        {
          "output_type": "stream",
          "text": [
            "Drive already mounted at /content/drive; to attempt to forcibly remount, call drive.mount(\"/content/drive\", force_remount=True).\n"
          ],
          "name": "stdout"
        }
      ]
    },
    {
      "cell_type": "code",
      "metadata": {
        "id": "0RjM3k1YQEoc"
      },
      "source": [
        "import sys\n",
        "sys.path.insert(0,'/content/drive/MyDrive/Colab_Notebooks/Dissertation/Prediction_Prototyping') "
      ],
      "execution_count": null,
      "outputs": []
    },
    {
      "cell_type": "code",
      "metadata": {
        "colab": {
          "base_uri": "https://localhost:8080/"
        },
        "id": "zPU4kwx8OVl-",
        "outputId": "69b564ec-c0ae-4cd2-c745-a38035d854e2"
      },
      "source": [
        "!pip install ipython-autotime"
      ],
      "execution_count": null,
      "outputs": [
        {
          "output_type": "stream",
          "text": [
            "Requirement already satisfied: ipython-autotime in /usr/local/lib/python3.7/dist-packages (0.3.1)\n",
            "Requirement already satisfied: ipython in /usr/local/lib/python3.7/dist-packages (from ipython-autotime) (5.5.0)\n",
            "Requirement already satisfied: setuptools>=18.5 in /usr/local/lib/python3.7/dist-packages (from ipython->ipython-autotime) (56.1.0)\n",
            "Requirement already satisfied: pexpect; sys_platform != \"win32\" in /usr/local/lib/python3.7/dist-packages (from ipython->ipython-autotime) (4.8.0)\n",
            "Requirement already satisfied: pygments in /usr/local/lib/python3.7/dist-packages (from ipython->ipython-autotime) (2.6.1)\n",
            "Requirement already satisfied: simplegeneric>0.8 in /usr/local/lib/python3.7/dist-packages (from ipython->ipython-autotime) (0.8.1)\n",
            "Requirement already satisfied: traitlets>=4.2 in /usr/local/lib/python3.7/dist-packages (from ipython->ipython-autotime) (5.0.5)\n",
            "Requirement already satisfied: decorator in /usr/local/lib/python3.7/dist-packages (from ipython->ipython-autotime) (4.4.2)\n",
            "Requirement already satisfied: pickleshare in /usr/local/lib/python3.7/dist-packages (from ipython->ipython-autotime) (0.7.5)\n",
            "Requirement already satisfied: prompt-toolkit<2.0.0,>=1.0.4 in /usr/local/lib/python3.7/dist-packages (from ipython->ipython-autotime) (1.0.18)\n",
            "Requirement already satisfied: ptyprocess>=0.5 in /usr/local/lib/python3.7/dist-packages (from pexpect; sys_platform != \"win32\"->ipython->ipython-autotime) (0.7.0)\n",
            "Requirement already satisfied: ipython-genutils in /usr/local/lib/python3.7/dist-packages (from traitlets>=4.2->ipython->ipython-autotime) (0.2.0)\n",
            "Requirement already satisfied: wcwidth in /usr/local/lib/python3.7/dist-packages (from prompt-toolkit<2.0.0,>=1.0.4->ipython->ipython-autotime) (0.2.5)\n",
            "Requirement already satisfied: six>=1.9.0 in /usr/local/lib/python3.7/dist-packages (from prompt-toolkit<2.0.0,>=1.0.4->ipython->ipython-autotime) (1.15.0)\n"
          ],
          "name": "stdout"
        }
      ]
    },
    {
      "cell_type": "markdown",
      "metadata": {
        "id": "WA4302JiQQHX"
      },
      "source": [
        "**IMPORTING LIBRARY DEPENDENCIES**"
      ]
    },
    {
      "cell_type": "code",
      "metadata": {
        "id": "1y_u1oRxQMqc"
      },
      "source": [
        "import numpy as np\n",
        "import pickle\n",
        "import matplotlib.pyplot as plt\n",
        "import math\n",
        "import os\n",
        "import pandas as pd"
      ],
      "execution_count": null,
      "outputs": []
    },
    {
      "cell_type": "code",
      "metadata": {
        "id": "ahwSEjKdQW0J"
      },
      "source": [
        "from sklearn import preprocessing\n",
        "from sklearn.model_selection import train_test_split\n",
        "from sklearn.ensemble import RandomForestRegressor"
      ],
      "execution_count": null,
      "outputs": []
    },
    {
      "cell_type": "code",
      "metadata": {
        "colab": {
          "base_uri": "https://localhost:8080/"
        },
        "id": "n2u9tUQrOb0S",
        "outputId": "1cf6922b-b037-4f91-ee86-d37ec7cdcbed"
      },
      "source": [
        "%load_ext autotime"
      ],
      "execution_count": null,
      "outputs": [
        {
          "output_type": "stream",
          "text": [
            "time: 134 µs (started: 2021-05-08 14:59:45 +00:00)\n"
          ],
          "name": "stdout"
        }
      ]
    },
    {
      "cell_type": "markdown",
      "metadata": {
        "id": "e5Ex8ulgQcYP"
      },
      "source": [
        "**IMPORTING DATA**"
      ]
    },
    {
      "cell_type": "code",
      "metadata": {
        "id": "RadM6uncQfvJ",
        "colab": {
          "base_uri": "https://localhost:8080/"
        },
        "outputId": "8fc7fb19-43aa-4fcd-b744-8faca355486a"
      },
      "source": [
        "feature_dir_path = '/content/drive/MyDrive/Colab_Notebooks/Dissertation/Data/PublishedData/AMDs_T2_1000_CON.csv'"
      ],
      "execution_count": null,
      "outputs": [
        {
          "output_type": "stream",
          "text": [
            "time: 1.5 ms (started: 2021-05-08 14:59:45 +00:00)\n"
          ],
          "name": "stdout"
        }
      ]
    },
    {
      "cell_type": "code",
      "metadata": {
        "id": "PqoqsjJTQj-Z",
        "colab": {
          "base_uri": "https://localhost:8080/"
        },
        "outputId": "bf1a8f2e-bc35-4ac9-a851-d60ea7d6e9d3"
      },
      "source": [
        "RAW_DATA = pd.read_csv(feature_dir_path)\n",
        "data = RAW_DATA.to_numpy()"
      ],
      "execution_count": null,
      "outputs": [
        {
          "output_type": "stream",
          "text": [
            "time: 2.08 s (started: 2021-05-08 14:59:45 +00:00)\n"
          ],
          "name": "stdout"
        }
      ]
    },
    {
      "cell_type": "code",
      "metadata": {
        "id": "qjZAXZLl-ykN",
        "colab": {
          "base_uri": "https://localhost:8080/"
        },
        "outputId": "bf993934-1e43-4e5a-fce7-a32813d944f3"
      },
      "source": [
        "label_dir_path = '/content/drive/MyDrive/Colab_Notebooks/Dissertation/Data/AMDs_T2_1000.csv'"
      ],
      "execution_count": null,
      "outputs": [
        {
          "output_type": "stream",
          "text": [
            "time: 2.96 ms (started: 2021-05-08 14:59:47 +00:00)\n"
          ],
          "name": "stdout"
        }
      ]
    },
    {
      "cell_type": "code",
      "metadata": {
        "id": "OJcaiB1I-yni",
        "colab": {
          "base_uri": "https://localhost:8080/"
        },
        "outputId": "7ebd2c72-0c68-4d95-e80e-554be2fd6aba"
      },
      "source": [
        "RAW_LABEL_DATA = pd.read_csv(label_dir_path)\n",
        "label_data = RAW_LABEL_DATA.to_numpy()"
      ],
      "execution_count": null,
      "outputs": [
        {
          "output_type": "stream",
          "text": [
            "time: 1.98 s (started: 2021-05-08 14:59:47 +00:00)\n"
          ],
          "name": "stdout"
        }
      ]
    },
    {
      "cell_type": "code",
      "metadata": {
        "id": "210WVUDeQnJ9",
        "colab": {
          "base_uri": "https://localhost:8080/"
        },
        "outputId": "71c24f50-4dc7-44d7-b8eb-c855c213acbe"
      },
      "source": [
        "features = data[:,1:]\n",
        "labels = label_data[:,1]"
      ],
      "execution_count": null,
      "outputs": [
        {
          "output_type": "stream",
          "text": [
            "time: 1.56 ms (started: 2021-05-08 14:59:49 +00:00)\n"
          ],
          "name": "stdout"
        }
      ]
    },
    {
      "cell_type": "code",
      "metadata": {
        "id": "bYj5FwMlQooC",
        "colab": {
          "base_uri": "https://localhost:8080/"
        },
        "outputId": "b26062cb-021d-429e-de7b-bb4ec9cd2a21"
      },
      "source": [
        "pickle.dump(features, open(\"amd_feature_data_forest.p\", \"wb\"))\n",
        "\n",
        "pickle.dump(labels, open(\"amd_label_data_forest.p\",\"wb\"))"
      ],
      "execution_count": null,
      "outputs": [
        {
          "output_type": "stream",
          "text": [
            "time: 1.43 s (started: 2021-05-08 14:59:49 +00:00)\n"
          ],
          "name": "stdout"
        }
      ]
    },
    {
      "cell_type": "code",
      "metadata": {
        "id": "PdFd31NFQqT_",
        "colab": {
          "base_uri": "https://localhost:8080/"
        },
        "outputId": "eb35694c-c9ba-4107-cee9-71f4575a37f9"
      },
      "source": [
        "def data():\n",
        "  feature_data = pickle.load(open(\"amd_feature_data_forest.p\",\"rb\"))\n",
        "  label_data = pickle.load(open(\"amd_label_data_forest.p\",\"rb\"))\n",
        "\n",
        "  feature_data = np.nan_to_num(feature_data)\n",
        "\n",
        "  feature_data = feature_data[:,:100]\n",
        "\n",
        "  ## Standard Scaler\n",
        "  feature_scaler = preprocessing.StandardScaler()\n",
        "  X_scaled = feature_scaler.fit_transform(feature_data)\n",
        "  \n",
        "  y_data = label_data.reshape(-1,1)\n",
        "\n",
        "  X_train, X_test, y_train, y_test = train_test_split(X_scaled, y_data, test_size=0.1, shuffle=True)\n",
        "\n",
        "  return X_train, y_train, X_test, y_test"
      ],
      "execution_count": null,
      "outputs": [
        {
          "output_type": "stream",
          "text": [
            "time: 11 ms (started: 2021-05-08 14:59:51 +00:00)\n"
          ],
          "name": "stdout"
        }
      ]
    },
    {
      "cell_type": "markdown",
      "metadata": {
        "id": "GEF96x1aRBIj"
      },
      "source": [
        "**ARCHITECTURE**"
      ]
    },
    {
      "cell_type": "code",
      "metadata": {
        "id": "e_Qpk2xuRHvi",
        "colab": {
          "base_uri": "https://localhost:8080/"
        },
        "outputId": "337d7e51-1a49-4ad4-eb59-c9a1bf8f6e59"
      },
      "source": [
        "X_train, y_train, X_test, y_test = data()"
      ],
      "execution_count": null,
      "outputs": [
        {
          "output_type": "stream",
          "text": [
            "time: 1.29 s (started: 2021-05-08 14:59:51 +00:00)\n"
          ],
          "name": "stdout"
        }
      ]
    },
    {
      "cell_type": "code",
      "metadata": {
        "id": "182gcYRlRLJK",
        "colab": {
          "base_uri": "https://localhost:8080/"
        },
        "outputId": "73addeeb-afc7-4ab1-e47f-36ce6662ab26"
      },
      "source": [
        "random_forest = RandomForestRegressor(n_estimators=230,criterion='mse',verbose=1,n_jobs=-1)"
      ],
      "execution_count": null,
      "outputs": [
        {
          "output_type": "stream",
          "text": [
            "time: 1.11 ms (started: 2021-05-08 14:59:52 +00:00)\n"
          ],
          "name": "stdout"
        }
      ]
    },
    {
      "cell_type": "markdown",
      "metadata": {
        "id": "qW3OPpoCRQGG"
      },
      "source": [
        "**TRAINING**"
      ]
    },
    {
      "cell_type": "code",
      "metadata": {
        "colab": {
          "base_uri": "https://localhost:8080/"
        },
        "id": "4IijgH1WRSMp",
        "outputId": "1275b713-d1f8-4c25-ce9e-d52650964ade"
      },
      "source": [
        "random_forest.fit(X_train,y_train)"
      ],
      "execution_count": null,
      "outputs": [
        {
          "output_type": "stream",
          "text": [
            "/usr/local/lib/python3.7/dist-packages/ipykernel_launcher.py:1: DataConversionWarning: A column-vector y was passed when a 1d array was expected. Please change the shape of y to (n_samples,), for example using ravel().\n",
            "  \"\"\"Entry point for launching an IPython kernel.\n",
            "[Parallel(n_jobs=-1)]: Using backend ThreadingBackend with 2 concurrent workers.\n",
            "[Parallel(n_jobs=-1)]: Done  46 tasks      | elapsed:   13.1s\n",
            "[Parallel(n_jobs=-1)]: Done 196 tasks      | elapsed:   55.4s\n",
            "[Parallel(n_jobs=-1)]: Done 230 out of 230 | elapsed:  1.1min finished\n"
          ],
          "name": "stderr"
        },
        {
          "output_type": "execute_result",
          "data": {
            "text/plain": [
              "RandomForestRegressor(bootstrap=True, ccp_alpha=0.0, criterion='mse',\n",
              "                      max_depth=None, max_features='auto', max_leaf_nodes=None,\n",
              "                      max_samples=None, min_impurity_decrease=0.0,\n",
              "                      min_impurity_split=None, min_samples_leaf=1,\n",
              "                      min_samples_split=2, min_weight_fraction_leaf=0.0,\n",
              "                      n_estimators=230, n_jobs=-1, oob_score=False,\n",
              "                      random_state=None, verbose=1, warm_start=False)"
            ]
          },
          "metadata": {
            "tags": []
          },
          "execution_count": 16
        },
        {
          "output_type": "stream",
          "text": [
            "time: 1min 5s (started: 2021-05-08 14:59:52 +00:00)\n"
          ],
          "name": "stdout"
        }
      ]
    },
    {
      "cell_type": "markdown",
      "metadata": {
        "id": "1cNhfbtIRVA5"
      },
      "source": [
        "**EVALUATING**"
      ]
    },
    {
      "cell_type": "code",
      "metadata": {
        "colab": {
          "base_uri": "https://localhost:8080/"
        },
        "id": "TNgZBmnTRXo8",
        "outputId": "9336d1ef-9482-45e3-96ac-e2444121583e"
      },
      "source": [
        "predictions = random_forest.predict(X_test).reshape(-1,1)"
      ],
      "execution_count": null,
      "outputs": [
        {
          "output_type": "stream",
          "text": [
            "[Parallel(n_jobs=2)]: Using backend ThreadingBackend with 2 concurrent workers.\n",
            "[Parallel(n_jobs=2)]: Done  46 tasks      | elapsed:    0.0s\n",
            "[Parallel(n_jobs=2)]: Done 196 tasks      | elapsed:    0.1s\n",
            "[Parallel(n_jobs=2)]: Done 230 out of 230 | elapsed:    0.1s finished\n"
          ],
          "name": "stderr"
        },
        {
          "output_type": "stream",
          "text": [
            "time: 108 ms (started: 2021-05-08 15:00:57 +00:00)\n"
          ],
          "name": "stdout"
        }
      ]
    },
    {
      "cell_type": "code",
      "metadata": {
        "colab": {
          "base_uri": "https://localhost:8080/"
        },
        "id": "1Oiu3039Re5c",
        "outputId": "9a8a9cab-9e16-49e5-9f43-df7b2478a418"
      },
      "source": [
        "average_loss = 0\n",
        "average_loss_percentage = 0\n",
        "average_loss_percentage_rel_range = 0\n",
        "counter = 0\n",
        "rms = 0\n",
        "\n",
        "error_ranges = np.array((0,0,0,0,0,0))\n",
        "\n",
        "max_value = -999999.99\n",
        "min_value = 999999.99\n",
        "\n",
        "for label in y_test:\n",
        "    if(label > max_value):\n",
        "        max_value = label\n",
        "        \n",
        "    if(label < min_value):\n",
        "        min_value = label\n",
        "        \n",
        "label_range = abs(max_value - min_value)\n",
        "\n",
        "\n",
        "for i,prediction in enumerate(predictions):\n",
        "    percentage_difference = abs((abs(prediction - y_test[i]) / y_test[i]) * 100)\n",
        "    percentage_difference2 = abs((abs(prediction - y_test[i]) / label_range) * 100)\n",
        "    loss = abs(prediction - y_test[i])\n",
        "    average_loss += loss\n",
        "\n",
        "    rms += loss**2\n",
        "\n",
        "    if(loss <= 1.0):\n",
        "      error_ranges[0] += 1\n",
        "    elif(loss <= 2.0):\n",
        "      error_ranges[1] += 1\n",
        "    elif(loss <= 4.0):\n",
        "      error_ranges[2] += 1\n",
        "    elif(loss <= 8.0):\n",
        "      error_ranges[3] += 1\n",
        "    elif(loss <= 10.0):\n",
        "      error_ranges[4] += 1\n",
        "    else:\n",
        "      error_ranges[5] += 1\n",
        "\n",
        "    average_loss_percentage += percentage_difference\n",
        "    average_loss_percentage_rel_range += percentage_difference2\n",
        "    counter += 1\n",
        "\n",
        "rms = math.sqrt(rms / counter)\n",
        "\n",
        "print()\n",
        "print(\"SUMMARY:\")\n",
        "print()\n",
        "print(\"Root Mean Squared Error: \" + str(rms))\n",
        "print(\"Mean Absolute Error: \" + str(average_loss / counter))\n",
        "print(\"Mean Absolute Percentage Error: \" + str(average_loss_percentage / counter) + \"%\")\n",
        "print(\"Mean Absolute Percentage Error relative to Label Range: \" + str(average_loss_percentage_rel_range / counter) + \"%\")\n",
        "print(\"Accuracy: \" + str(100 - (average_loss_percentage / counter)) + \"%\")\n",
        "print()\n",
        "print(\"BREAKDOWN:\")\n",
        "print(\"   Error <= 1.0 kJ/mol: \" + str(error_ranges[0]) + \" or \" + str((error_ranges[0] / counter) * 100) + \"% of Test Set\")\n",
        "print(\"   Error <= 2.0 kJ/mol: \" + str(error_ranges[1]) + \" or \" + str((error_ranges[1] / counter) * 100) + \"% of Test Set\")\n",
        "print(\"   Error <= 4.0 kJ/mol: \" + str(error_ranges[2]) + \" or \" + str((error_ranges[2] / counter) * 100) + \"% of Test Set\")\n",
        "print(\"   Error <= 8.0 kJ/mol: \" + str(error_ranges[3]) + \" or \" + str((error_ranges[3] / counter) * 100) + \"% of Test Set\")\n",
        "print(\"   Error <= 10.0.0 kJ/mol: \" + str(error_ranges[4]) + \" or \" + str((error_ranges[4] / counter) * 100) + \"% of Test Set\")\n",
        "print(\"   Error > 10.0 kJ/mol: \" + str(error_ranges[5]) + \" or \" + str((error_ranges[5] / counter) * 100) + \"% of Test Set\")\n",
        "print(\"----------------------------------------------------------------------------------------------\")"
      ],
      "execution_count": null,
      "outputs": [
        {
          "output_type": "stream",
          "text": [
            "\n",
            "SUMMARY:\n",
            "\n",
            "Root Mean Squared Error: 7.7277529907398685\n",
            "Mean Absolute Error: [6.119761421128219]\n",
            "Mean Absolute Percentage Error: [4.38013635958074]%\n",
            "Mean Absolute Percentage Error relative to Label Range: [10.669374947484773]%\n",
            "Accuracy: [95.61986364041925]%\n",
            "\n",
            "BREAKDOWN:\n",
            "   Error <= 1.0 kJ/mol: 62 or 10.915492957746478% of Test Set\n",
            "   Error <= 2.0 kJ/mol: 54 or 9.507042253521126% of Test Set\n",
            "   Error <= 4.0 kJ/mol: 119 or 20.950704225352112% of Test Set\n",
            "   Error <= 8.0 kJ/mol: 166 or 29.225352112676056% of Test Set\n",
            "   Error <= 10.0.0 kJ/mol: 59 or 10.387323943661972% of Test Set\n",
            "   Error > 10.0 kJ/mol: 108 or 19.014084507042252% of Test Set\n",
            "----------------------------------------------------------------------------------------------\n",
            "time: 104 ms (started: 2021-05-08 15:00:57 +00:00)\n"
          ],
          "name": "stdout"
        }
      ]
    }
  ]
}