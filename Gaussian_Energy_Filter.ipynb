{
  "nbformat": 4,
  "nbformat_minor": 0,
  "metadata": {
    "colab": {
      "name": "Gaussian_Energy_Filter.ipynb",
      "provenance": [],
      "collapsed_sections": [],
      "authorship_tag": "ABX9TyOn/IJhXLT3dWLGEnNWuFc0",
      "include_colab_link": true
    },
    "kernelspec": {
      "name": "python3",
      "display_name": "Python 3"
    },
    "language_info": {
      "name": "python"
    }
  },
  "cells": [
    {
      "cell_type": "markdown",
      "metadata": {
        "id": "view-in-github",
        "colab_type": "text"
      },
      "source": [
        "<a href=\"https://colab.research.google.com/github/JRopes/CrystalEnergyPredictionWithInvariants/blob/main/Gaussian_Energy_Filter.ipynb\" target=\"_parent\"><img src=\"https://colab.research.google.com/assets/colab-badge.svg\" alt=\"Open In Colab\"/></a>"
      ]
    },
    {
      "cell_type": "markdown",
      "metadata": {
        "id": "yYazXU3nZxRB"
      },
      "source": [
        "**SETUP**"
      ]
    },
    {
      "cell_type": "code",
      "metadata": {
        "colab": {
          "base_uri": "https://localhost:8080/"
        },
        "id": "94kRXaBiZrxr",
        "outputId": "f5abc821-901d-405d-e845-8b72f33604e3"
      },
      "source": [
        "from google.colab import drive\n",
        "drive.mount('/content/drive')"
      ],
      "execution_count": null,
      "outputs": [
        {
          "output_type": "stream",
          "text": [
            "Drive already mounted at /content/drive; to attempt to forcibly remount, call drive.mount(\"/content/drive\", force_remount=True).\n"
          ],
          "name": "stdout"
        }
      ]
    },
    {
      "cell_type": "code",
      "metadata": {
        "id": "nKHxZYVLZ3g_"
      },
      "source": [
        "import sys\n",
        "sys.path.insert(0,'/content/drive/MyDrive/Colab_Notebooks/Dissertation/Prediction_Prototyping') "
      ],
      "execution_count": null,
      "outputs": []
    },
    {
      "cell_type": "markdown",
      "metadata": {
        "id": "NFAyTfLfZ6QF"
      },
      "source": [
        "**IMPORTING LIBRARY DEPENDENCIES**"
      ]
    },
    {
      "cell_type": "code",
      "metadata": {
        "id": "qOQTM4jsZ-dV"
      },
      "source": [
        "import numpy as np\n",
        "import pickle\n",
        "import math\n",
        "import pandas as pd"
      ],
      "execution_count": null,
      "outputs": []
    },
    {
      "cell_type": "code",
      "metadata": {
        "id": "kIdm440CaB_L"
      },
      "source": [
        "from sklearn import preprocessing\n",
        "from sklearn.model_selection import train_test_split\n",
        "from sklearn.gaussian_process import GaussianProcessRegressor\n",
        "from sklearn.gaussian_process.kernels import DotProduct, WhiteKernel, RationalQuadratic, RBF, ConstantKernel, Matern, ExpSineSquared"
      ],
      "execution_count": null,
      "outputs": []
    },
    {
      "cell_type": "markdown",
      "metadata": {
        "id": "kRqn60z8aPvY"
      },
      "source": [
        "**IMPORTING DATA**"
      ]
    },
    {
      "cell_type": "code",
      "metadata": {
        "id": "HEUkja7zaStV"
      },
      "source": [
        "feature_dir_path = '/content/drive/MyDrive/Colab_Notebooks/Dissertation/Data/AMDs_T2_1000.csv'"
      ],
      "execution_count": null,
      "outputs": []
    },
    {
      "cell_type": "code",
      "metadata": {
        "id": "Va4IFR6TaW_d"
      },
      "source": [
        "# Importing Data\n",
        "RAW_DATA = pd.read_csv(feature_dir_path)\n",
        "\n",
        "# Converting to Numpy Matrix\n",
        "data = RAW_DATA.to_numpy()"
      ],
      "execution_count": null,
      "outputs": []
    },
    {
      "cell_type": "code",
      "metadata": {
        "id": "KHZCXYaEaY_j"
      },
      "source": [
        "# Slicing to create feature and label matrices\n",
        "features = data[:,4:]\n",
        "labels = data[:,1]"
      ],
      "execution_count": null,
      "outputs": []
    },
    {
      "cell_type": "code",
      "metadata": {
        "id": "RFQPvWBPafu5"
      },
      "source": [
        "pickle.dump(features, open(\"amd_feature_data_gp.p\", \"wb\"))\n",
        "\n",
        "pickle.dump(labels, open(\"amd_label_data_gp.p\",\"wb\"))"
      ],
      "execution_count": null,
      "outputs": []
    },
    {
      "cell_type": "code",
      "metadata": {
        "id": "oc7T8Vo4agid"
      },
      "source": [
        "def data():\n",
        "  feature_data = pickle.load(open(\"amd_feature_data_gp.p\",\"rb\"))\n",
        "  label_data = pickle.load(open(\"amd_label_data_gp.p\",\"rb\"))\n",
        "\n",
        "  # Filling any empty values\n",
        "  feature_data = np.nan_to_num(feature_data)\n",
        "\n",
        "  # Only using the first 100 AMD values\n",
        "  feature_data = feature_data[:,:100]\n",
        "\n",
        "  ## MinMax Scaler\n",
        "  feature_scaler = preprocessing.MinMaxScaler(feature_range=(0,1))\n",
        "  X_scaled = feature_scaler.fit_transform(feature_data)\n",
        "  \n",
        "  label_scaler = preprocessing.MinMaxScaler(feature_range=(0,1))\n",
        "  y_scaled = label_scaler.fit_transform(label_data.reshape(-1,1))\n",
        "\n",
        "  # Splitting into training and test data\n",
        "  X_train, X_test, y_train, y_test = train_test_split(X_scaled, y_scaled, test_size=0.2, shuffle=True)\n",
        "\n",
        "  return X_train, y_train, X_test, y_test, label_scaler"
      ],
      "execution_count": null,
      "outputs": []
    },
    {
      "cell_type": "markdown",
      "metadata": {
        "id": "lujM-nE0bQJs"
      },
      "source": [
        "**ARCHITECTURE**"
      ]
    },
    {
      "cell_type": "code",
      "metadata": {
        "id": "fa3PUXyhbW_g"
      },
      "source": [
        "X_train, y_train, X_test, y_test, label_scaler = data()"
      ],
      "execution_count": null,
      "outputs": []
    },
    {
      "cell_type": "code",
      "metadata": {
        "id": "U_lxN4SZbpOb"
      },
      "source": [
        "# Setting kernel\n",
        "kernel = RationalQuadratic()"
      ],
      "execution_count": null,
      "outputs": []
    },
    {
      "cell_type": "code",
      "metadata": {
        "id": "Whv-BG1wbiWJ"
      },
      "source": [
        "# Setting up Gaussian Process regressor\n",
        "gpr = GaussianProcessRegressor(kernel=kernel)"
      ],
      "execution_count": null,
      "outputs": []
    },
    {
      "cell_type": "markdown",
      "metadata": {
        "id": "_4RYyRIfcC27"
      },
      "source": [
        "**TRAINING**"
      ]
    },
    {
      "cell_type": "code",
      "metadata": {
        "colab": {
          "base_uri": "https://localhost:8080/"
        },
        "id": "4agadkpDcFVT",
        "outputId": "47855a18-b40f-497f-85ea-98785d99c025"
      },
      "source": [
        "# Fitting and optimizing Gaussian Process Regressor on Training data\n",
        "gpr.fit(X_train, y_train)"
      ],
      "execution_count": null,
      "outputs": [
        {
          "output_type": "execute_result",
          "data": {
            "text/plain": [
              "GaussianProcessRegressor(alpha=1e-10, copy_X_train=True,\n",
              "                         kernel=RationalQuadratic(alpha=1, length_scale=1),\n",
              "                         n_restarts_optimizer=0, normalize_y=False,\n",
              "                         optimizer='fmin_l_bfgs_b', random_state=None)"
            ]
          },
          "metadata": {
            "tags": []
          },
          "execution_count": 13
        }
      ]
    },
    {
      "cell_type": "markdown",
      "metadata": {
        "id": "l1SDmVSwclSf"
      },
      "source": [
        "**EVALUATING**"
      ]
    },
    {
      "cell_type": "code",
      "metadata": {
        "id": "g7Pq6bWfcpJz"
      },
      "source": [
        "# Making predictions to get prediction and standard deviation\n",
        "mean_predictions, std_predictions = gpr.predict(X_test, return_std=True)"
      ],
      "execution_count": null,
      "outputs": []
    },
    {
      "cell_type": "code",
      "metadata": {
        "id": "-VFuDikYmwhs"
      },
      "source": [
        "# Inverse Scaling Predictions and Standard deviations\n",
        "std_predictions = std_predictions.reshape(-1,1)"
      ],
      "execution_count": null,
      "outputs": []
    },
    {
      "cell_type": "code",
      "metadata": {
        "id": "TO7zHCYnl3h0"
      },
      "source": [
        "scaler = np.divide(std_predictions, mean_predictions)"
      ],
      "execution_count": null,
      "outputs": []
    },
    {
      "cell_type": "code",
      "metadata": {
        "id": "dtCe5QIbeIuq"
      },
      "source": [
        "mean_predictions = label_scaler.inverse_transform(mean_predictions)\n",
        "std_predictions = np.multiply(scaler,mean_predictions)\n",
        "y_test = label_scaler.inverse_transform(y_test)"
      ],
      "execution_count": null,
      "outputs": []
    },
    {
      "cell_type": "code",
      "metadata": {
        "colab": {
          "base_uri": "https://localhost:8080/"
        },
        "id": "0s7t8LaX5XsM",
        "outputId": "73bd4ab8-e079-4f21-cc65-5dc842e88726"
      },
      "source": [
        "# Evaluating Performance\n",
        "average_loss = 0\n",
        "average_loss_percentage = 0\n",
        "average_loss_percentage_rel_range = 0\n",
        "counter = 0\n",
        "rms = 0\n",
        "\n",
        "error_ranges = np.array((0,0,0,0,0,0))\n",
        "\n",
        "max_value = -999999.99\n",
        "min_value = 999999.99\n",
        "\n",
        "for label in y_test:\n",
        "    if(label > max_value):\n",
        "        max_value = label\n",
        "        \n",
        "    if(label < min_value):\n",
        "        min_value = label\n",
        "        \n",
        "label_range = abs(max_value - min_value)\n",
        "\n",
        "\n",
        "for i,prediction in enumerate(mean_predictions):\n",
        "    percentage_difference = abs((abs(prediction - y_test[i]) / y_test[i]) * 100)\n",
        "    percentage_difference2 = abs((abs(prediction - y_test[i]) / label_range) * 100)\n",
        "    loss = abs(prediction - y_test[i])\n",
        "    average_loss += loss\n",
        "\n",
        "    rms += loss**2\n",
        "\n",
        "    if(loss <= 1.0):\n",
        "      error_ranges[0] += 1\n",
        "    elif(loss <= 2.0):\n",
        "      error_ranges[1] += 1\n",
        "    elif(loss <= 4.0):\n",
        "      error_ranges[2] += 1\n",
        "    elif(loss <= 8.0):\n",
        "      error_ranges[3] += 1\n",
        "    elif(loss <= 10.0):\n",
        "      error_ranges[4] += 1\n",
        "    else:\n",
        "      error_ranges[5] += 1\n",
        "\n",
        "    average_loss_percentage += percentage_difference\n",
        "    average_loss_percentage_rel_range += percentage_difference2\n",
        "    counter += 1\n",
        "\n",
        "rms = math.sqrt(rms / counter)\n",
        "\n",
        "print()\n",
        "print(\"SUMMARY:\")\n",
        "print()\n",
        "print(\"Root Mean Squared Error: \" + str(rms))\n",
        "print(\"Mean Absolute Error: \" + str(average_loss / counter))\n",
        "print(\"Mean Absolute Percentage Error: \" + str(average_loss_percentage / counter) + \"%\")\n",
        "print(\"Mean Absolute Percentage Error relative to Label Range: \" + str(average_loss_percentage_rel_range / counter) + \"%\")\n",
        "print(\"Accuracy: \" + str(100 - (average_loss_percentage / counter)) + \"%\")\n",
        "print()\n",
        "print(\"BREAKDOWN:\")\n",
        "print(\"   Error <= 1.0 kJ/mol: \" + str(error_ranges[0]) + \" or \" + str((error_ranges[0] / counter) * 100) + \"% of Test Set\")\n",
        "print(\"   Error <= 2.0 kJ/mol: \" + str(error_ranges[1]) + \" or \" + str((error_ranges[1] / counter) * 100) + \"% of Test Set\")\n",
        "print(\"   Error <= 4.0 kJ/mol: \" + str(error_ranges[2]) + \" or \" + str((error_ranges[2] / counter) * 100) + \"% of Test Set\")\n",
        "print(\"   Error <= 8.0 kJ/mol: \" + str(error_ranges[3]) + \" or \" + str((error_ranges[3] / counter) * 100) + \"% of Test Set\")\n",
        "print(\"   Error <= 10.0.0 kJ/mol: \" + str(error_ranges[4]) + \" or \" + str((error_ranges[4] / counter) * 100) + \"% of Test Set\")\n",
        "print(\"   Error > 10.0 kJ/mol: \" + str(error_ranges[5]) + \" or \" + str((error_ranges[5] / counter) * 100) + \"% of Test Set\")\n",
        "print(\"----------------------------------------------------------------------------------------------\")"
      ],
      "execution_count": null,
      "outputs": [
        {
          "output_type": "stream",
          "text": [
            "\n",
            "SUMMARY:\n",
            "\n",
            "Root Mean Squared Error: 6.4027777373918715\n",
            "Mean Absolute Error: [4.81108546]\n",
            "Mean Absolute Percentage Error: [3.45023369]%\n",
            "Mean Absolute Percentage Error relative to Label Range: [5.05987443]%\n",
            "Accuracy: [96.54976631]%\n",
            "\n",
            "BREAKDOWN:\n",
            "   Error <= 1.0 kJ/mol: 190 or 16.725352112676056% of Test Set\n",
            "   Error <= 2.0 kJ/mol: 159 or 13.996478873239438% of Test Set\n",
            "   Error <= 4.0 kJ/mol: 251 or 22.095070422535212% of Test Set\n",
            "   Error <= 8.0 kJ/mol: 315 or 27.72887323943662% of Test Set\n",
            "   Error <= 10.0.0 kJ/mol: 96 or 8.450704225352112% of Test Set\n",
            "   Error > 10.0 kJ/mol: 125 or 11.003521126760564% of Test Set\n",
            "----------------------------------------------------------------------------------------------\n"
          ],
          "name": "stdout"
        }
      ]
    },
    {
      "cell_type": "markdown",
      "metadata": {
        "id": "o-WOlymg5lTG"
      },
      "source": [
        "**Prediction with Uncertainty**"
      ]
    },
    {
      "cell_type": "code",
      "metadata": {
        "id": "dxlAgaqr5kJT"
      },
      "source": [
        "instance = 23"
      ],
      "execution_count": null,
      "outputs": []
    },
    {
      "cell_type": "code",
      "metadata": {
        "colab": {
          "base_uri": "https://localhost:8080/"
        },
        "id": "OA7TTUE1mGv1",
        "outputId": "885957a5-da26-422e-ed6f-11f1ba427feb"
      },
      "source": [
        "# Showing prediction with 95% confidence interval\n",
        "print(\"Prediction: \" + str(mean_predictions[instance,0]) + \" +- \" + str(-1.96 * std_predictions[instance,0]) + \" with 95% Confidence || True Label: \" + str(y_test[instance]))"
      ],
      "execution_count": null,
      "outputs": [
        {
          "output_type": "stream",
          "text": [
            "Prediction: -129.09632203634513 +- 19.035719491302302 with 95% Confidence || True Label: [-129.6897]\n"
          ],
          "name": "stdout"
        }
      ]
    },
    {
      "cell_type": "markdown",
      "metadata": {
        "id": "hGq-hxWEoK5Y"
      },
      "source": [
        "**FILTERING**"
      ]
    },
    {
      "cell_type": "code",
      "metadata": {
        "id": "OCxMAzcdrT_i"
      },
      "source": [
        "combined_prediction = np.concatenate((mean_predictions,std_predictions),axis=1)"
      ],
      "execution_count": null,
      "outputs": []
    },
    {
      "cell_type": "code",
      "metadata": {
        "id": "FjBKxw_hr-lM"
      },
      "source": [
        "combined_prediction = np.concatenate((combined_prediction,y_test),axis=1)"
      ],
      "execution_count": null,
      "outputs": []
    },
    {
      "cell_type": "code",
      "metadata": {
        "id": "PenHFRpHshbT"
      },
      "source": [
        "min_boundary = -1000\n",
        "max_boundary = 1000\n",
        "\n",
        "label_max = 0\n",
        "label_min = -1000"
      ],
      "execution_count": null,
      "outputs": []
    },
    {
      "cell_type": "code",
      "metadata": {
        "id": "zOIaLTX_y3JL"
      },
      "source": [
        "#####\n",
        "# Setting Parameters for Filtering\n",
        "#####\n",
        "percentage_cutoff = 0.15\n",
        "confidence_factor = -1.96\n",
        "#-1.96 for 95% OR -1.282 for 80%\n",
        "#####"
      ],
      "execution_count": null,
      "outputs": []
    },
    {
      "cell_type": "code",
      "metadata": {
        "id": "GLYUesKUsxfa"
      },
      "source": [
        "# Calculating the energy boundaries of the predictions and the labels\n",
        "for instance in combined_prediction:\n",
        "  prediction = instance[0]\n",
        "  std = instance[1] * confidence_factor\n",
        "\n",
        "  if ((prediction + std) > min_boundary):\n",
        "    min_boundary = prediction + std\n",
        "\n",
        "  if ((prediction) < max_boundary):\n",
        "    max_boundary = prediction\n",
        "\n",
        "  if (instance[2] > label_min):\n",
        "    label_min = instance[2]\n",
        "\n",
        "  if (instance[2] < label_max):\n",
        "    label_max = instance[2]"
      ],
      "execution_count": null,
      "outputs": []
    },
    {
      "cell_type": "code",
      "metadata": {
        "id": "sAjghRq2t_lH"
      },
      "source": [
        "# Calculating the energy threshold for the predictions\n",
        "energy_cutoff_boundary = max_boundary - ((max_boundary - min_boundary) * percentage_cutoff) ##Keep anything below this boundary"
      ],
      "execution_count": null,
      "outputs": []
    },
    {
      "cell_type": "code",
      "metadata": {
        "id": "W9Ny4Uj0uoBi"
      },
      "source": [
        "# Calculating the true energy threshold for the labels\n",
        "label_energy_cutoff = label_max - ((label_max - label_min) * percentage_cutoff) ##We should keep any instances with label between this cutoff and label_max"
      ],
      "execution_count": null,
      "outputs": []
    },
    {
      "cell_type": "code",
      "metadata": {
        "id": "1dWXCj76vdCv"
      },
      "source": [
        "# Filtering out predictions above threshold and evaluating choices using labels\n",
        "counter = 0\n",
        "correct = 0\n",
        "kept_instances = 0\n",
        "tp = 0\n",
        "positives = 0\n",
        "\n",
        "for instance in combined_prediction:\n",
        "  keep = False\n",
        "  counter += 1\n",
        "\n",
        "  prediction = instance[0]\n",
        "  std = instance[1] * confidence_factor\n",
        "\n",
        "  if (((prediction + std) <= energy_cutoff_boundary) or ((prediction - std) <= energy_cutoff_boundary) or (prediction <= energy_cutoff_boundary)):\n",
        "    keep = True\n",
        "    kept_instances += 1\n",
        "\n",
        "  if (instance[2] <= label_energy_cutoff):\n",
        "    positives += 1\n",
        "\n",
        "    if(keep):\n",
        "      correct += 1\n",
        "      tp += 1\n",
        "  \n",
        "  if (instance[2] > label_energy_cutoff):\n",
        "    if(not keep):\n",
        "      correct += 1"
      ],
      "execution_count": null,
      "outputs": []
    },
    {
      "cell_type": "code",
      "metadata": {
        "colab": {
          "base_uri": "https://localhost:8080/"
        },
        "id": "-gbD1E2QwzQa",
        "outputId": "731150fd-ff35-4671-ac8b-5c7cbfa03f2b"
      },
      "source": [
        "# Results of Filtering\n",
        "print(\"Accuracy: \" + str(correct/counter))\n",
        "print(\"Recall: \" + str(tp/positives))\n",
        "print(\"Fraction of Original Landscape: \" + str(kept_instances/counter))"
      ],
      "execution_count": null,
      "outputs": [
        {
          "output_type": "stream",
          "text": [
            "Accuracy: 0.9639084507042254\n"
          ],
          "name": "stdout"
        }
      ]
    }
  ]
}